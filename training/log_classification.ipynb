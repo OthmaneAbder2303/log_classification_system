{
 "cells": [
  {
   "cell_type": "code",
   "id": "initial_id",
   "metadata": {
    "collapsed": true,
    "ExecuteTime": {
     "end_time": "2025-05-05T14:19:25.577591Z",
     "start_time": "2025-05-05T14:19:23.844869Z"
    }
   },
   "source": [
    "import pandas as pd\n",
    "\n",
    "df = pd.read_csv('dataset/synthetic_logs.csv')\n",
    "df"
   ],
   "outputs": [
    {
     "data": {
      "text/plain": [
       "                timestamp           source  \\\n",
       "0     2025-06-27 07:20:25        ModernCRM   \n",
       "1         1/14/2025 23:07        ModernCRM   \n",
       "2          1/17/2025 1:29  AnalyticsEngine   \n",
       "3     2025-07-12 00:24:16         ModernHR   \n",
       "4     2025-06-02 18:25:23    BillingSystem   \n",
       "...                   ...              ...   \n",
       "2405  2025-08-13 07:29:25         ModernHR   \n",
       "2406       1/11/2025 5:32         ModernHR   \n",
       "2407  2025-08-03 03:07:47    ThirdPartyAPI   \n",
       "2408     11/11/2025 11:52    BillingSystem   \n",
       "2409     12/25/2025 13:21  AnalyticsEngine   \n",
       "\n",
       "                                            log_message    target_label  \\\n",
       "0     nova.osapi_compute.wsgi.server [req-b9718cd8-f...     HTTP Status   \n",
       "1        Email service experiencing issues with sending  Critical Error   \n",
       "2             Unauthorized access to data was attempted  Security Alert   \n",
       "3     nova.osapi_compute.wsgi.server [req-4895c258-b...     HTTP Status   \n",
       "4     nova.osapi_compute.wsgi.server [req-ee8bc8ba-9...     HTTP Status   \n",
       "...                                                 ...             ...   \n",
       "2405  nova.osapi_compute.wsgi.server [req-96c3ec98-2...     HTTP Status   \n",
       "2406  User 3844 account experienced multiple failed ...  Security Alert   \n",
       "2407  nova.metadata.wsgi.server [req-b6d4a270-accb-4...     HTTP Status   \n",
       "2408      Email service affected by failed transmission  Critical Error   \n",
       "2409  Repeated failed login attempts occurred for us...  Security Alert   \n",
       "\n",
       "     complexity  \n",
       "0          bert  \n",
       "1          bert  \n",
       "2          bert  \n",
       "3          bert  \n",
       "4          bert  \n",
       "...         ...  \n",
       "2405       bert  \n",
       "2406       bert  \n",
       "2407       bert  \n",
       "2408       bert  \n",
       "2409       bert  \n",
       "\n",
       "[2410 rows x 5 columns]"
      ],
      "text/html": [
       "<div>\n",
       "<style scoped>\n",
       "    .dataframe tbody tr th:only-of-type {\n",
       "        vertical-align: middle;\n",
       "    }\n",
       "\n",
       "    .dataframe tbody tr th {\n",
       "        vertical-align: top;\n",
       "    }\n",
       "\n",
       "    .dataframe thead th {\n",
       "        text-align: right;\n",
       "    }\n",
       "</style>\n",
       "<table border=\"1\" class=\"dataframe\">\n",
       "  <thead>\n",
       "    <tr style=\"text-align: right;\">\n",
       "      <th></th>\n",
       "      <th>timestamp</th>\n",
       "      <th>source</th>\n",
       "      <th>log_message</th>\n",
       "      <th>target_label</th>\n",
       "      <th>complexity</th>\n",
       "    </tr>\n",
       "  </thead>\n",
       "  <tbody>\n",
       "    <tr>\n",
       "      <th>0</th>\n",
       "      <td>2025-06-27 07:20:25</td>\n",
       "      <td>ModernCRM</td>\n",
       "      <td>nova.osapi_compute.wsgi.server [req-b9718cd8-f...</td>\n",
       "      <td>HTTP Status</td>\n",
       "      <td>bert</td>\n",
       "    </tr>\n",
       "    <tr>\n",
       "      <th>1</th>\n",
       "      <td>1/14/2025 23:07</td>\n",
       "      <td>ModernCRM</td>\n",
       "      <td>Email service experiencing issues with sending</td>\n",
       "      <td>Critical Error</td>\n",
       "      <td>bert</td>\n",
       "    </tr>\n",
       "    <tr>\n",
       "      <th>2</th>\n",
       "      <td>1/17/2025 1:29</td>\n",
       "      <td>AnalyticsEngine</td>\n",
       "      <td>Unauthorized access to data was attempted</td>\n",
       "      <td>Security Alert</td>\n",
       "      <td>bert</td>\n",
       "    </tr>\n",
       "    <tr>\n",
       "      <th>3</th>\n",
       "      <td>2025-07-12 00:24:16</td>\n",
       "      <td>ModernHR</td>\n",
       "      <td>nova.osapi_compute.wsgi.server [req-4895c258-b...</td>\n",
       "      <td>HTTP Status</td>\n",
       "      <td>bert</td>\n",
       "    </tr>\n",
       "    <tr>\n",
       "      <th>4</th>\n",
       "      <td>2025-06-02 18:25:23</td>\n",
       "      <td>BillingSystem</td>\n",
       "      <td>nova.osapi_compute.wsgi.server [req-ee8bc8ba-9...</td>\n",
       "      <td>HTTP Status</td>\n",
       "      <td>bert</td>\n",
       "    </tr>\n",
       "    <tr>\n",
       "      <th>...</th>\n",
       "      <td>...</td>\n",
       "      <td>...</td>\n",
       "      <td>...</td>\n",
       "      <td>...</td>\n",
       "      <td>...</td>\n",
       "    </tr>\n",
       "    <tr>\n",
       "      <th>2405</th>\n",
       "      <td>2025-08-13 07:29:25</td>\n",
       "      <td>ModernHR</td>\n",
       "      <td>nova.osapi_compute.wsgi.server [req-96c3ec98-2...</td>\n",
       "      <td>HTTP Status</td>\n",
       "      <td>bert</td>\n",
       "    </tr>\n",
       "    <tr>\n",
       "      <th>2406</th>\n",
       "      <td>1/11/2025 5:32</td>\n",
       "      <td>ModernHR</td>\n",
       "      <td>User 3844 account experienced multiple failed ...</td>\n",
       "      <td>Security Alert</td>\n",
       "      <td>bert</td>\n",
       "    </tr>\n",
       "    <tr>\n",
       "      <th>2407</th>\n",
       "      <td>2025-08-03 03:07:47</td>\n",
       "      <td>ThirdPartyAPI</td>\n",
       "      <td>nova.metadata.wsgi.server [req-b6d4a270-accb-4...</td>\n",
       "      <td>HTTP Status</td>\n",
       "      <td>bert</td>\n",
       "    </tr>\n",
       "    <tr>\n",
       "      <th>2408</th>\n",
       "      <td>11/11/2025 11:52</td>\n",
       "      <td>BillingSystem</td>\n",
       "      <td>Email service affected by failed transmission</td>\n",
       "      <td>Critical Error</td>\n",
       "      <td>bert</td>\n",
       "    </tr>\n",
       "    <tr>\n",
       "      <th>2409</th>\n",
       "      <td>12/25/2025 13:21</td>\n",
       "      <td>AnalyticsEngine</td>\n",
       "      <td>Repeated failed login attempts occurred for us...</td>\n",
       "      <td>Security Alert</td>\n",
       "      <td>bert</td>\n",
       "    </tr>\n",
       "  </tbody>\n",
       "</table>\n",
       "<p>2410 rows × 5 columns</p>\n",
       "</div>"
      ]
     },
     "execution_count": 1,
     "metadata": {},
     "output_type": "execute_result"
    }
   ],
   "execution_count": 1
  },
  {
   "metadata": {
    "ExecuteTime": {
     "end_time": "2025-05-05T14:20:32.042651Z",
     "start_time": "2025-05-05T14:20:29.359254Z"
    }
   },
   "cell_type": "code",
   "source": "df.source.unique()",
   "id": "27c93ec6a2782473",
   "outputs": [
    {
     "data": {
      "text/plain": [
       "array(['ModernCRM', 'AnalyticsEngine', 'ModernHR', 'BillingSystem',\n",
       "       'ThirdPartyAPI', 'LegacyCRM'], dtype=object)"
      ]
     },
     "execution_count": 2,
     "metadata": {},
     "output_type": "execute_result"
    }
   ],
   "execution_count": 2
  },
  {
   "metadata": {
    "ExecuteTime": {
     "end_time": "2025-05-05T14:20:54.702958Z",
     "start_time": "2025-05-05T14:20:54.130950Z"
    }
   },
   "cell_type": "code",
   "source": "df.target_label.unique()",
   "id": "5ecc00f7f3738d19",
   "outputs": [
    {
     "data": {
      "text/plain": [
       "array(['HTTP Status', 'Critical Error', 'Security Alert', 'Error',\n",
       "       'System Notification', 'Resource Usage', 'User Action',\n",
       "       'Workflow Error', 'Deprecation Warning'], dtype=object)"
      ]
     },
     "execution_count": 3,
     "metadata": {},
     "output_type": "execute_result"
    }
   ],
   "execution_count": 3
  },
  {
   "metadata": {},
   "cell_type": "markdown",
   "source": [
    "Let's implement log message clustering using DBSCAN algorithm with sentence transformers for text embedding. We'll:\n",
    "1. Install required packages\n",
    "2. Create embeddings using sentence-transformers\n",
    "3. Apply DBSCAN clustering\n",
    "4. Analyze the results"
   ],
   "id": "214af6aa6543b69a"
  },
  {
   "metadata": {
    "ExecuteTime": {
     "end_time": "2025-05-05T16:31:39.786666Z",
     "start_time": "2025-05-05T16:31:26.305973Z"
    }
   },
   "cell_type": "code",
   "source": [
    "!pip install --upgrade pip\n",
    "!pip install sentence-transformers scikit-learn"
   ],
   "id": "4ccad26275c7fecf",
   "outputs": [
    {
     "name": "stdout",
     "output_type": "stream",
     "text": [
      "Requirement already satisfied: pip in c:\\users\\othma\\pycharmmiscproject\\.venv\\lib\\site-packages (25.0.1)\n",
      "Collecting pip\n",
      "  Using cached pip-25.1.1-py3-none-any.whl.metadata (3.6 kB)\n",
      "Using cached pip-25.1.1-py3-none-any.whl (1.8 MB)\n"
     ]
    },
    {
     "name": "stderr",
     "output_type": "stream",
     "text": [
      "\n",
      "[notice] A new release of pip is available: 25.0.1 -> 25.1.1\n",
      "[notice] To update, run: python.exe -m pip install --upgrade pip\n",
      "ERROR: To modify pip, please run the following command:\n",
      "C:\\Users\\othma\\PyCharmMiscProject\\.venv\\Scripts\\python.exe -m pip install --upgrade pip\n"
     ]
    },
    {
     "name": "stdout",
     "output_type": "stream",
     "text": [
      "Requirement already satisfied: sentence-transformers in c:\\users\\othma\\pycharmmiscproject\\.venv\\lib\\site-packages (4.1.0)\n",
      "Requirement already satisfied: scikit-learn in c:\\users\\othma\\pycharmmiscproject\\.venv\\lib\\site-packages (1.6.1)\n",
      "Requirement already satisfied: transformers<5.0.0,>=4.41.0 in c:\\users\\othma\\pycharmmiscproject\\.venv\\lib\\site-packages (from sentence-transformers) (4.51.3)\n",
      "Requirement already satisfied: tqdm in c:\\users\\othma\\pycharmmiscproject\\.venv\\lib\\site-packages (from sentence-transformers) (4.67.1)\n",
      "Requirement already satisfied: torch>=1.11.0 in c:\\users\\othma\\pycharmmiscproject\\.venv\\lib\\site-packages (from sentence-transformers) (2.7.0)\n",
      "Requirement already satisfied: scipy in c:\\users\\othma\\pycharmmiscproject\\.venv\\lib\\site-packages (from sentence-transformers) (1.15.2)\n",
      "Requirement already satisfied: huggingface-hub>=0.20.0 in c:\\users\\othma\\pycharmmiscproject\\.venv\\lib\\site-packages (from sentence-transformers) (0.30.2)\n",
      "Requirement already satisfied: Pillow in c:\\users\\othma\\pycharmmiscproject\\.venv\\lib\\site-packages (from sentence-transformers) (11.2.1)\n",
      "Requirement already satisfied: typing_extensions>=4.5.0 in c:\\users\\othma\\pycharmmiscproject\\.venv\\lib\\site-packages (from sentence-transformers) (4.13.2)\n",
      "Requirement already satisfied: numpy>=1.19.5 in c:\\users\\othma\\pycharmmiscproject\\.venv\\lib\\site-packages (from scikit-learn) (2.2.5)\n",
      "Requirement already satisfied: joblib>=1.2.0 in c:\\users\\othma\\pycharmmiscproject\\.venv\\lib\\site-packages (from scikit-learn) (1.5.0)\n",
      "Requirement already satisfied: threadpoolctl>=3.1.0 in c:\\users\\othma\\pycharmmiscproject\\.venv\\lib\\site-packages (from scikit-learn) (3.6.0)\n",
      "Requirement already satisfied: filelock in c:\\users\\othma\\pycharmmiscproject\\.venv\\lib\\site-packages (from huggingface-hub>=0.20.0->sentence-transformers) (3.18.0)\n",
      "Requirement already satisfied: fsspec>=2023.5.0 in c:\\users\\othma\\pycharmmiscproject\\.venv\\lib\\site-packages (from huggingface-hub>=0.20.0->sentence-transformers) (2025.3.2)\n",
      "Requirement already satisfied: packaging>=20.9 in c:\\users\\othma\\pycharmmiscproject\\.venv\\lib\\site-packages (from huggingface-hub>=0.20.0->sentence-transformers) (25.0)\n",
      "Requirement already satisfied: pyyaml>=5.1 in c:\\users\\othma\\pycharmmiscproject\\.venv\\lib\\site-packages (from huggingface-hub>=0.20.0->sentence-transformers) (6.0.2)\n",
      "Requirement already satisfied: requests in c:\\users\\othma\\pycharmmiscproject\\.venv\\lib\\site-packages (from huggingface-hub>=0.20.0->sentence-transformers) (2.32.3)\n",
      "Requirement already satisfied: sympy>=1.13.3 in c:\\users\\othma\\pycharmmiscproject\\.venv\\lib\\site-packages (from torch>=1.11.0->sentence-transformers) (1.14.0)\n",
      "Requirement already satisfied: networkx in c:\\users\\othma\\pycharmmiscproject\\.venv\\lib\\site-packages (from torch>=1.11.0->sentence-transformers) (3.4.2)\n",
      "Requirement already satisfied: jinja2 in c:\\users\\othma\\pycharmmiscproject\\.venv\\lib\\site-packages (from torch>=1.11.0->sentence-transformers) (3.1.6)\n",
      "Requirement already satisfied: setuptools in c:\\users\\othma\\pycharmmiscproject\\.venv\\lib\\site-packages (from torch>=1.11.0->sentence-transformers) (79.0.0)\n",
      "Requirement already satisfied: colorama in c:\\users\\othma\\pycharmmiscproject\\.venv\\lib\\site-packages (from tqdm->sentence-transformers) (0.4.6)\n",
      "Requirement already satisfied: regex!=2019.12.17 in c:\\users\\othma\\pycharmmiscproject\\.venv\\lib\\site-packages (from transformers<5.0.0,>=4.41.0->sentence-transformers) (2024.11.6)\n",
      "Requirement already satisfied: tokenizers<0.22,>=0.21 in c:\\users\\othma\\pycharmmiscproject\\.venv\\lib\\site-packages (from transformers<5.0.0,>=4.41.0->sentence-transformers) (0.21.1)\n",
      "Requirement already satisfied: safetensors>=0.4.3 in c:\\users\\othma\\pycharmmiscproject\\.venv\\lib\\site-packages (from transformers<5.0.0,>=4.41.0->sentence-transformers) (0.5.3)\n",
      "Requirement already satisfied: mpmath<1.4,>=1.1.0 in c:\\users\\othma\\pycharmmiscproject\\.venv\\lib\\site-packages (from sympy>=1.13.3->torch>=1.11.0->sentence-transformers) (1.3.0)\n",
      "Requirement already satisfied: MarkupSafe>=2.0 in c:\\users\\othma\\pycharmmiscproject\\.venv\\lib\\site-packages (from jinja2->torch>=1.11.0->sentence-transformers) (3.0.2)\n",
      "Requirement already satisfied: charset-normalizer<4,>=2 in c:\\users\\othma\\pycharmmiscproject\\.venv\\lib\\site-packages (from requests->huggingface-hub>=0.20.0->sentence-transformers) (3.4.1)\n",
      "Requirement already satisfied: idna<4,>=2.5 in c:\\users\\othma\\pycharmmiscproject\\.venv\\lib\\site-packages (from requests->huggingface-hub>=0.20.0->sentence-transformers) (3.10)\n",
      "Requirement already satisfied: urllib3<3,>=1.21.1 in c:\\users\\othma\\pycharmmiscproject\\.venv\\lib\\site-packages (from requests->huggingface-hub>=0.20.0->sentence-transformers) (2.4.0)\n",
      "Requirement already satisfied: certifi>=2017.4.17 in c:\\users\\othma\\pycharmmiscproject\\.venv\\lib\\site-packages (from requests->huggingface-hub>=0.20.0->sentence-transformers) (2025.1.31)\n"
     ]
    },
    {
     "name": "stderr",
     "output_type": "stream",
     "text": [
      "\n",
      "[notice] A new release of pip is available: 25.0.1 -> 25.1.1\n",
      "[notice] To update, run: python.exe -m pip install --upgrade pip\n"
     ]
    }
   ],
   "execution_count": 11
  },
  {
   "metadata": {
    "ExecuteTime": {
     "end_time": "2025-05-05T16:32:51.564452Z",
     "start_time": "2025-05-05T16:31:51.774332Z"
    }
   },
   "cell_type": "code",
   "source": [
    "from sentence_transformers import SentenceTransformer\n",
    "from sklearn.cluster import DBSCAN\n",
    "import numpy as np\n",
    "\n",
    "# Load the sentence transformer model\n",
    "model = SentenceTransformer('all-MiniLM-L6-v2')\n",
    "\n",
    "# Create embeddings\n",
    "embeddings = model.encode(df['log_message'].tolist(), show_progress_bar=True)"
   ],
   "id": "a40ece123de69685",
   "outputs": [
    {
     "name": "stderr",
     "output_type": "stream",
     "text": [
      "Batches: 100%|██████████| 76/76 [00:56<00:00,  1.34it/s]\n"
     ]
    }
   ],
   "execution_count": 12
  },
  {
   "metadata": {
    "ExecuteTime": {
     "end_time": "2025-05-05T16:33:06.652645Z",
     "start_time": "2025-05-05T16:33:00.522218Z"
    }
   },
   "cell_type": "code",
   "source": [
    "# Apply DBSCAN clustering\n",
    "clustering = DBSCAN(eps=0.5, min_samples=5).fit(embeddings)\n",
    "\n",
    "# Add cluster labels to dataframe\n",
    "df['cluster'] = clustering.labels_"
   ],
   "id": "cddf56cd55f07d54",
   "outputs": [],
   "execution_count": 13
  },
  {
   "metadata": {
    "ExecuteTime": {
     "end_time": "2025-05-05T16:33:15.221086Z",
     "start_time": "2025-05-05T16:33:15.098911Z"
    }
   },
   "cell_type": "code",
   "source": [
    "# Show clusters distribution\n",
    "print(f\"Number of unique clusters: {len(np.unique(clustering.labels_))}\")\n",
    "print(\"\\nCluster distribution:\")\n",
    "print(df['cluster'].value_counts().sort_index())"
   ],
   "id": "1949d7bf638b6bb2",
   "outputs": [
    {
     "name": "stdout",
     "output_type": "stream",
     "text": [
      "Number of unique clusters: 29\n",
      "\n",
      "Cluster distribution:\n",
      "cluster\n",
      "-1     548\n",
      " 0     809\n",
      " 1      42\n",
      " 2      53\n",
      " 3      84\n",
      " 4      60\n",
      " 5      31\n",
      " 6      15\n",
      " 7      99\n",
      " 8      86\n",
      " 9     206\n",
      " 10     10\n",
      " 11     48\n",
      " 12     42\n",
      " 13     58\n",
      " 14     14\n",
      " 15     29\n",
      " 16     51\n",
      " 17     21\n",
      " 18     15\n",
      " 19      7\n",
      " 20     20\n",
      " 21     17\n",
      " 22      7\n",
      " 23      8\n",
      " 24      6\n",
      " 25     11\n",
      " 26      6\n",
      " 27      7\n",
      "Name: count, dtype: int64\n"
     ]
    }
   ],
   "execution_count": 14
  },
  {
   "metadata": {
    "ExecuteTime": {
     "end_time": "2025-05-05T16:33:36.522389Z",
     "start_time": "2025-05-05T16:33:36.441066Z"
    }
   },
   "cell_type": "code",
   "source": [
    "# Display sample messages from each cluster\n",
    "for cluster in sorted(df['cluster'].unique()):\n",
    "    print(f\"\\nCluster {cluster}:\")\n",
    "    sample_messages = df[df['cluster'] == cluster]['log_message'].sample(\n",
    "        min(3, len(df[df['cluster'] == cluster]))).values\n",
    "    for msg in sample_messages:\n",
    "        print(f\"- {msg}\")"
   ],
   "id": "131d5a1c44d8e81f",
   "outputs": [
    {
     "name": "stdout",
     "output_type": "stream",
     "text": [
      "\n",
      "Cluster -1:\n",
      "- Invalid data encountered during execution of module X\n",
      "- Unauthorized access to data was attempted\n",
      "- Multiple disk malfunctions in RAID setup identified\n",
      "\n",
      "Cluster 0:\n",
      "- nova.osapi_compute.wsgi.server [req-403846bd-dd0d-4472-a78d-6077e720094b 113d3a99c3da401fbd62cc2caa5b96d2 54fadb412c4e40cdbaed9335e4c35a9e - - -] 10.11.10.1 \"GET /v2/54fadb412c4e40cdbaed9335e4c35a9e/servers/detail HTTP/1.1\" Return code: 200 len: 1893 time: 0.2580168\n",
      "- nova.osapi_compute.wsgi.server [req-6264d86e-7a74-4647-a528-8e476a256e94 113d3a99c3da401fbd62cc2caa5b96d2 54fadb412c4e40cdbaed9335e4c35a9e - - -] 10.11.10.1 \"GET /v2/54fadb412c4e40cdbaed9335e4c35a9e/servers/detail HTTP/1.1\" RCODE  200 len: 1893 time: 0.2726710\n",
      "- nova.osapi_compute.wsgi.server [req-fd4a841b-8d46-4485-b466-117bf8e53a94 113d3a99c3da401fbd62cc2caa5b96d2 54fadb412c4e40cdbaed9335e4c35a9e - - -] 10.11.10.1 \"GET /v2/54fadb412c4e40cdbaed9335e4c35a9e/servers/detail HTTP/1.1\" HTTP status code -  200 len: 1893 time: 0.2663469\n",
      "\n",
      "Cluster 1:\n",
      "- Shard 14 experienced a replication failure\n",
      "- Shard 4 replication task ended in failure\n",
      "- Error replicating data to shard 17\n",
      "\n",
      "Cluster 2:\n",
      "- File data_7160.csv uploaded successfully by user User629.\n",
      "- File data_6571.csv uploaded successfully by user User142.\n",
      "- File data_4085.csv uploaded successfully by user User222.\n",
      "\n",
      "Cluster 3:\n",
      "- nova.compute.claims [req-29a09cdb-3169-4c40-8bd1-552636286362 113d3a99c3da401fbd62cc2caa5b96d2 54fadb412c4e40cdbaed9335e4c35a9e - - -] [instance: 43204226-2f87-4da7-b7ee-4d20cc66e846] Total memory: 64172 MB, used: 512.00 MB\n",
      "- nova.compute.claims [req-3d26bc3d-373c-4269-b095-004aab7a9785 113d3a99c3da401fbd62cc2caa5b96d2 54fadb412c4e40cdbaed9335e4c35a9e - - -] [instance: faf974ea-cba5-4e1b-93f4-3a3bc606006f] memory limit: 96258.00 MB, free: 95746.00 MB\n",
      "- nova.compute.claims [req-5c8f52bd-8e3c-41f0-95a5-7861d247cafa 113d3a99c3da401fbd62cc2caa5b96d2 54fadb412c4e40cdbaed9335e4c35a9e - - -] [instance: d96a117b-0193-4549-bdcc-63b917273d1d] Attempting claim: memory 2048 MB, disk 20 GB, vcpus 1 CPU\n",
      "\n",
      "Cluster 4:\n",
      "- Backup completed successfully.\n",
      "- Backup completed successfully.\n",
      "- Backup completed successfully.\n",
      "\n",
      "Cluster 5:\n",
      "- Account with ID 6661 created by User556.\n",
      "- Account with ID 9807 created by User944.\n",
      "- Account with ID 8884 created by User893.\n",
      "\n",
      "Cluster 6:\n",
      "- nova.compute.resource_tracker [req-addc1839-2ed5-4778-b57e-5854eb7b8b09 - - - - -] Final resource view: name=cp-1.slowvm1.tcloud-pg0.utah.cloudlab.us phys_ram=64172MB used_ram=2560MB phys_disk=15GB used_disk=20GB total_vcpus=16 used_vcpus=1 pci_stats=[]\n",
      "- nova.compute.resource_tracker [req-addc1839-2ed5-4778-b57e-5854eb7b8b09 - - - - -] Final resource view: name=cp-1.slowvm1.tcloud-pg0.utah.cloudlab.us phys_ram=64172MB used_ram=512MB phys_disk=15GB used_disk=0GB total_vcpus=16 used_vcpus=0 pci_stats=[]\n",
      "- nova.compute.resource_tracker [req-addc1839-2ed5-4778-b57e-5854eb7b8b09 - - - - -] Final resource view: name=cp-1.slowvm1.tcloud-pg0.utah.cloudlab.us phys_ram=64172MB used_ram=2560MB phys_disk=15GB used_disk=20GB total_vcpus=16 used_vcpus=1 pci_stats=[]\n",
      "\n",
      "Cluster 7:\n",
      "- User User132 logged in.\n",
      "- User User871 logged in.\n",
      "- User User495 logged out.\n",
      "\n",
      "Cluster 8:\n",
      "- Backup ended at 2025-04-27 00:46:45.\n",
      "- Backup started at 2025-05-02 05:17:47.\n",
      "- Backup ended at 2025-11-22 14:28:11.\n",
      "\n",
      "Cluster 9:\n",
      "- nova.metadata.wsgi.server [-] 10.11.21.141,10.11.10.1 \"GET /openstack/2013-10-17 HTTP/1.1\" Status code -  200 len: 157 time: 0.0009151\n",
      "- nova.metadata.wsgi.server [-] 10.11.21.135,10.11.10.1 \"GET /latest/meta-data/local-ipv4 HTTP/1.1\" Status code -  200 len: 129 time: 0.0008481\n",
      "- nova.metadata.wsgi.server [req-24f7495b-14ca-4513-87d2-a413dd760f5c - - - - -] 10.11.21.137,10.11.10.1 \"GET /openstack/2013-10-17/user_data HTTP/1.1\" status: 404 len: 176 time: 0.2108901\n",
      "\n",
      "Cluster 10:\n",
      "- System component malfunction: component ID Component90\n",
      "- System component has failed: component ID Component95\n",
      "- System component malfunction: component ID Component94\n",
      "\n",
      "Cluster 11:\n",
      "- System reboot initiated by user User765.\n",
      "- System reboot initiated by user User120.\n",
      "- System reboot initiated by user User644.\n",
      "\n",
      "Cluster 12:\n",
      "- nova.compute.claims [req-98474cd9-61e1-4afe-bd52-676a577b058f 113d3a99c3da401fbd62cc2caa5b96d2 54fadb412c4e40cdbaed9335e4c35a9e - - -] [instance: 70c1714b-c11b-4c88-b300-239afe1f5ff8] disk limit not specified, defaulting to unlimited\n",
      "- nova.compute.claims [req-caeb3818-dab6-4e8d-9ea6-aceb23905ebc 113d3a99c3da401fbd62cc2caa5b96d2 54fadb412c4e40cdbaed9335e4c35a9e - - -] [instance: 78dc1847-8848-49cc-933e-9239b12c9dcf] disk limit not specified, defaulting to unlimited\n",
      "- nova.compute.claims [req-4b4dd551-26d8-48e2-bd52-91793d2157bc 113d3a99c3da401fbd62cc2caa5b96d2 54fadb412c4e40cdbaed9335e4c35a9e - - -] [instance: a015cf14-84bb-4156-a48d-7c4824ac7a9d] vcpu limit not specified, defaulting to unlimited\n",
      "\n",
      "Cluster 13:\n",
      "- System updated to version 2.7.9.\n",
      "- System updated to version 2.8.3.\n",
      "- System updated to version 3.6.4.\n",
      "\n",
      "Cluster 14:\n",
      "- RAID array suffered multiple hard drive failures\n",
      "- Several hard drive failures in RAID system identified\n",
      "- RAID array experienced multiple disk failures and issues\n",
      "\n",
      "Cluster 15:\n",
      "- Multiple incorrect login attempts were made by user 7918\n",
      "- Multiple rejected login attempts found for user 6397\n",
      "- Multiple failed login attempts were reported for user 3550\n",
      "\n",
      "Cluster 16:\n",
      "- Disk cleanup completed successfully.\n",
      "- Disk cleanup completed successfully.\n",
      "- Disk cleanup completed successfully.\n",
      "\n",
      "Cluster 17:\n",
      "- nova.compute.claims [req-1162e278-3bf2-4b32-93b5-9c7ec218365e 113d3a99c3da401fbd62cc2caa5b96d2 54fadb412c4e40cdbaed9335e4c35a9e - - -] [instance: fecdd5a9-3ca0-4c82-9336-63b7774f738e] Total vcpu: 16 VCPU, used: 0.00 VCPU\n",
      "- nova.compute.claims [req-2d658d2c-7eff-414e-a68f-3f1c75c9e874 113d3a99c3da401fbd62cc2caa5b96d2 54fadb412c4e40cdbaed9335e4c35a9e - - -] [instance: 7e7cc42f-3cb9-4d91-804c-f5a32d54f1c5] Total vcpu: 16 VCPU, used: 0.00 VCPU\n",
      "- nova.compute.claims [req-d82fab16-60f8-4c9f-bde8-f362f57bdd40 113d3a99c3da401fbd62cc2caa5b96d2 54fadb412c4e40cdbaed9335e4c35a9e - - -] [instance: ae3a1b5d-eec1-45bb-b76a-c59d83b1471f] Total vcpu: 16 VCPU, used: 0.00 VCPU\n",
      "\n",
      "Cluster 18:\n",
      "- nova.compute.resource_tracker [req-addc1839-2ed5-4778-b57e-5854eb7b8b09 - - - - -] Total usable vcpus: 16, total allocated vcpus: 0\n",
      "- nova.compute.resource_tracker [req-addc1839-2ed5-4778-b57e-5854eb7b8b09 - - - - -] Total usable vcpus: 16, total allocated vcpus: 0\n",
      "- nova.compute.resource_tracker [req-addc1839-2ed5-4778-b57e-5854eb7b8b09 - - - - -] Total usable vcpus: 16, total allocated vcpus: 1\n",
      "\n",
      "Cluster 19:\n",
      "- Failure occurred in critical system component: component ID Component6\n",
      "- System component failure occurred: component ID Component54\n",
      "- Failure occurred in critical system component: component ID Component92\n",
      "\n",
      "Cluster 20:\n",
      "- Service health check failure occurred due to an invalid or expired SSL certificate.\n",
      "- An issue with the SSL certificate caused the service health check to fail.\n",
      "- Invalid SSL certificate caused the service health check to be unsuccessful.\n",
      "\n",
      "Cluster 21:\n",
      "- Module X reported an invalid input format exception\n",
      "- Input to module X was not in the expected format\n",
      "- Module X failed to validate input data format\n",
      "\n",
      "Cluster 22:\n",
      "- Restricted account Account9137 had login failure\n",
      "- Failed to login to restricted account Account8723\n",
      "- Account Account1297 login was unsuccessful due to restrictions\n",
      "\n",
      "Cluster 23:\n",
      "- Shard 8 synchronization task failed\n",
      "- Data synchronization failed for shard 9\n",
      "- Shard 20 data synchronization failed\n",
      "\n",
      "Cluster 24:\n",
      "- Critical system module error: module ID Component29\n",
      "- Critical system module failure: module ID Component66\n",
      "- Critical system module error: module ID Component58\n",
      "\n",
      "Cluster 25:\n",
      "- Delivery failure impacted email services\n",
      "- Error in email delivery affected service\n",
      "- Service issue caused by email delivery error\n",
      "\n",
      "Cluster 26:\n",
      "- Critical system unit failure: unit ID Component41\n",
      "- Critical system unit failure: unit ID Component76\n",
      "- Critical system unit error: unit ID Component6\n",
      "\n",
      "Cluster 27:\n",
      "- System component is not operating: component ID Component4\n",
      "- System component is not functioning: component ID Component3\n",
      "- System component is not functioning: component ID Component23\n"
     ]
    }
   ],
   "execution_count": 15
  },
  {
   "metadata": {},
   "cell_type": "markdown",
   "source": [
    "Note: \n",
    "- Cluster -1 represents noise points (outliers)\n",
    "- You may need to adjust eps and min_samples parameters of DBSCAN based on your specific needs\n",
    "- The chosen model 'all-MiniLM-L6-v2' is a good balance between speed and performance\n"
   ],
   "id": "ee1600879dcf7d00"
  },
  {
   "metadata": {},
   "cell_type": "code",
   "outputs": [],
   "execution_count": null,
   "source": "",
   "id": "7109f71ba2093cec"
  }
 ],
 "metadata": {
  "kernelspec": {
   "display_name": "Python 3",
   "language": "python",
   "name": "python3"
  },
  "language_info": {
   "codemirror_mode": {
    "name": "ipython",
    "version": 2
   },
   "file_extension": ".py",
   "mimetype": "text/x-python",
   "name": "python",
   "nbconvert_exporter": "python",
   "pygments_lexer": "ipython2",
   "version": "2.7.6"
  }
 },
 "nbformat": 4,
 "nbformat_minor": 5
}
